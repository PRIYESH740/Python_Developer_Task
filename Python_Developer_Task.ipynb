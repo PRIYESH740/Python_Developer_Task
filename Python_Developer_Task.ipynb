{
 "cells": [
  {
   "cell_type": "code",
   "execution_count": 6,
   "id": "d2794feb-e26a-41eb-8ef8-64c7d31a8ab2",
   "metadata": {},
   "outputs": [
    {
     "name": "stdout",
     "output_type": "stream",
     "text": [
      "=== Binance Futures Testnet Trading Bot ===\n"
     ]
    },
    {
     "name": "stdin",
     "output_type": "stream",
     "text": [
      "Enter symbol (e.g., BTCUSDT):  BTCUSDT\n",
      "Buy or Sell?  BUY\n",
      "Order type (MARKET / LIMIT):  LIMIT\n",
      "Enter quantity:  0.01\n",
      "Enter price:  62000\n"
     ]
    },
    {
     "name": "stdout",
     "output_type": "stream",
     "text": [
      "Order Result: {'orderId': 4543240579, 'symbol': 'BTCUSDT', 'status': 'NEW', 'clientOrderId': 'x-Cb7ytekJ1268db00a0a62c51e70f1', 'price': '62000.00', 'avgPrice': '0.00', 'origQty': '0.010', 'executedQty': '0.000', 'cumQty': '0.000', 'cumQuote': '0.00000', 'timeInForce': 'GTC', 'type': 'LIMIT', 'reduceOnly': False, 'closePosition': False, 'side': 'BUY', 'positionSide': 'BOTH', 'stopPrice': '0.00', 'workingType': 'CONTRACT_PRICE', 'priceProtect': False, 'origType': 'LIMIT', 'priceMatch': 'NONE', 'selfTradePreventionMode': 'EXPIRE_MAKER', 'goodTillDate': 0, 'updateTime': 1750142386690}\n"
     ]
    }
   ],
   "source": [
    "import logging\n",
    "import time\n",
    "from binance.client import Client\n",
    "from binance.enums import *\n",
    "from binance.exceptions import BinanceAPIException\n",
    "import sys\n",
    "\n",
    "# Setup logging\n",
    "logging.basicConfig(filename='bot.log', level=logging.INFO,\n",
    "                    format='%(asctime)s:%(levelname)s:%(message)s')\n",
    "\n",
    "class BasicBot:\n",
    "    def __init__(self, api_key, api_secret, testnet=True):\n",
    "        self.client = Client(api_key, api_secret)\n",
    "\n",
    "        if testnet:\n",
    "            self.client.FUTURES_URL = 'https://testnet.binancefuture.com/fapi'\n",
    "            self.client.API_URL = 'https://testnet.binancefuture.com/fapi'\n",
    "\n",
    "        # Sync timestamp offset using public methods\n",
    "        try:\n",
    "            server_time = self.client.futures_time()['serverTime']\n",
    "            local_time = int(time.time() * 1000)\n",
    "            self.client.timestamp_offset = server_time - local_time\n",
    "            logging.info(f\"Time offset set: {self.client.timestamp_offset}ms\")\n",
    "        except Exception as e:\n",
    "            logging.error(f\"Error syncing time: {e}\")\n",
    "            print(\"Error syncing time:\", e)\n",
    "\n",
    "    def place_order(self, symbol, side, order_type, quantity, price=None):\n",
    "        try:\n",
    "            params = {\n",
    "                'symbol': symbol.upper(),\n",
    "                'side': SIDE_BUY if side.lower() == 'buy' else SIDE_SELL,\n",
    "                'type': order_type,\n",
    "                'quantity': quantity\n",
    "            }\n",
    "\n",
    "            if order_type == ORDER_TYPE_LIMIT:\n",
    "                if price is None:\n",
    "                    raise ValueError(\"Price is required for LIMIT orders.\")\n",
    "                params['price'] = price\n",
    "                params['timeInForce'] = TIME_IN_FORCE_GTC\n",
    "\n",
    "            logging.info(f\"Placing order: {params}\")\n",
    "            response = self.client.futures_create_order(**params)\n",
    "            logging.info(f\"Order response: {response}\")\n",
    "            return response\n",
    "\n",
    "        except BinanceAPIException as e:\n",
    "            logging.error(f\"Binance API error: {e}\")\n",
    "            return {\"error\": str(e)}\n",
    "        except Exception as e:\n",
    "            logging.error(f\"Unexpected error: {e}\")\n",
    "            return {\"error\": str(e)}\n",
    "\n",
    "def get_user_input():\n",
    "    print(\"=== Binance Futures Testnet Trading Bot ===\")\n",
    "    symbol = input(\"Enter symbol (e.g., BTCUSDT): \").strip()\n",
    "    side = input(\"Buy or Sell? \").strip().lower()\n",
    "    if side not in ['buy', 'sell']:\n",
    "        sys.exit(\"Invalid side. Must be 'buy' or 'sell'.\")\n",
    "\n",
    "    order_type = input(\"Order type (MARKET / LIMIT): \").strip().upper()\n",
    "    if order_type not in ['MARKET', 'LIMIT']:\n",
    "        sys.exit(\"Invalid order type.\")\n",
    "\n",
    "    try:\n",
    "        quantity = float(input(\"Enter quantity: \").strip())\n",
    "    except ValueError:\n",
    "        sys.exit(\"Invalid quantity.\")\n",
    "        \n",
    "    price = None\n",
    "    if order_type == 'LIMIT':\n",
    "        try:\n",
    "            price = float(input(\"Enter price: \").strip())\n",
    "        except ValueError:\n",
    "            sys.exit(\"Invalid price.\")\n",
    "\n",
    "    return symbol, side, order_type, quantity, price\n",
    "\n",
    "if __name__ == \"__main__\":\n",
    "    # 📌 Paste your Testnet keys here\n",
    "    API_KEY = \"f8323f72a1c0bdfdd4f19aec5cb395f54401a7978db2d3c0fdb43e77125fe4f3\"\n",
    "    API_SECRET = \"231422eb202a3c33a5aa89df89f0c4c97d796abb77d5dffbb359adcd3d0eed17\"\n",
    "\n",
    "    bot = BasicBot(API_KEY, API_SECRET, testnet=True)\n",
    "\n",
    "    symbol, side, order_type, quantity, price = get_user_input()\n",
    "    result = bot.place_order(symbol, side, order_type, quantity, price)\n",
    "\n",
    "    print(\"Order Result:\",result)\n"
   ]
  },
  {
   "cell_type": "code",
   "execution_count": null,
   "id": "d62e2cdb-230f-49dd-9d82-c90e8b575288",
   "metadata": {},
   "outputs": [],
   "source": []
  }
 ],
 "metadata": {
  "kernelspec": {
   "display_name": "Python 3 (ipykernel)",
   "language": "python",
   "name": "python3"
  },
  "language_info": {
   "codemirror_mode": {
    "name": "ipython",
    "version": 3
   },
   "file_extension": ".py",
   "mimetype": "text/x-python",
   "name": "python",
   "nbconvert_exporter": "python",
   "pygments_lexer": "ipython3",
   "version": "3.11.5"
  }
 },
 "nbformat": 4,
 "nbformat_minor": 5
}

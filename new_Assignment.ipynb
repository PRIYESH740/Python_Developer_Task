{
 "cells": [
  {
   "cell_type": "markdown",
   "id": "23ad823a-bde1-41f3-96fa-6a8f944affec",
   "metadata": {},
   "source": [
    "### Question 1. Given two numbers a, b where b > a, find the sum of all primes between them."
   ]
  },
  {
   "cell_type": "code",
   "execution_count": 4,
   "id": "193f954b-b1b1-414d-a3a5-0551cf9d3bde",
   "metadata": {},
   "outputs": [
    {
     "name": "stdin",
     "output_type": "stream",
     "text": [
      "Enter first number:  1\n",
      "Enter Second number:  1000\n"
     ]
    },
    {
     "name": "stdout",
     "output_type": "stream",
     "text": [
      "76127\n"
     ]
    }
   ],
   "source": [
    "def sumOfPrime(a,b):\n",
    "    su=0\n",
    "    for i in range(a,b):\n",
    "        if i ==1:\n",
    "            continue\n",
    "        j=2\n",
    "        flag=False\n",
    "        while j<i:\n",
    "            if i%j==0:\n",
    "                flag=True\n",
    "                break\n",
    "            j+=1\n",
    "            \n",
    "        if flag==False:\n",
    "            su +=i\n",
    "\n",
    "    return su\n",
    "\n",
    "#main\n",
    "a=int(input(\"Enter first number: \"))\n",
    "b=int(input(\"Enter Second number: \"))\n",
    "print(sumOfPrime(a,b))\n",
    "        "
   ]
  },
  {
   "cell_type": "markdown",
   "id": "25132358-4342-485d-9b25-da862f0f76c6",
   "metadata": {},
   "source": [
    "### Question 3. Find the 3rd smallest number in an array."
   ]
  },
  {
   "cell_type": "code",
   "execution_count": 2,
   "id": "d6898ba8-2f06-43bd-93ce-580c974ff69f",
   "metadata": {},
   "outputs": [
    {
     "name": "stdin",
     "output_type": "stream",
     "text": [
      " 12 3 5 7 19 7\n"
     ]
    },
    {
     "name": "stdout",
     "output_type": "stream",
     "text": [
      "7\n"
     ]
    }
   ],
   "source": [
    "def third_smallest(arr):\n",
    "    if len(arr) < 3:\n",
    "        return \"ERROR! array has fewer than 3 elements\"\n",
    "\n",
    "    first = second = third = float('inf')\n",
    "\n",
    "    for num in arr:\n",
    "        if num < first:\n",
    "            third = second\n",
    "            second = first\n",
    "            first = num\n",
    "        elif first < num < second:\n",
    "            third = second\n",
    "            second = num\n",
    "        elif second < num < third:\n",
    "            third = num\n",
    "\n",
    "    return third if third != float('inf') else \"No distinct 3rd smallest\"\n",
    "\n",
    "# Example\n",
    "arr = [int(i) for i in input().split()]\n",
    "print(third_smallest(arr))  # Output: 5\n"
   ]
  },
  {
   "cell_type": "code",
   "execution_count": null,
   "id": "c2aa4600-b438-4d05-8b8e-b4274576ab15",
   "metadata": {},
   "outputs": [],
   "source": []
  }
 ],
 "metadata": {
  "kernelspec": {
   "display_name": "Python 3 (ipykernel)",
   "language": "python",
   "name": "python3"
  },
  "language_info": {
   "codemirror_mode": {
    "name": "ipython",
    "version": 3
   },
   "file_extension": ".py",
   "mimetype": "text/x-python",
   "name": "python",
   "nbconvert_exporter": "python",
   "pygments_lexer": "ipython3",
   "version": "3.11.5"
  }
 },
 "nbformat": 4,
 "nbformat_minor": 5
}
